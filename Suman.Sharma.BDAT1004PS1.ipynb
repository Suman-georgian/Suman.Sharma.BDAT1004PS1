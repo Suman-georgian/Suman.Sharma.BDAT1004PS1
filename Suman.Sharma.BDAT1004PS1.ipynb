{
 "cells": [
  {
   "cell_type": "markdown",
   "id": "b336f98c",
   "metadata": {},
   "source": [
    "# Problem Set 1"
   ]
  },
  {
   "cell_type": "markdown",
   "id": "4f7fd94a",
   "metadata": {},
   "source": [
    "### Question 1"
   ]
  },
  {
   "cell_type": "markdown",
   "id": "6a6f7abe",
   "metadata": {},
   "source": [
    "What data type is each of the following (evaluate where necessary)?"
   ]
  },
  {
   "cell_type": "markdown",
   "id": "4ea07120",
   "metadata": {},
   "source": [
    "5 = Integer (int)\n",
    "\n",
    "5.0 = Floating Point Number (float)\n",
    "\n",
    "5 > 1 =  Boolean (bool) True\n",
    "\n",
    "'5'= String (str)\n",
    "\n",
    "5 * 2 = Integer (int)\n",
    "\n",
    "'5' * 2 = String (str)\n",
    "\n",
    "'5' + '2' = String (str)\n",
    "\n",
    "5 / 2 = Floating point number (float)\n",
    "\n",
    "5 % 2 = Integer (int)\n",
    "\n",
    "{5, 2, 1} = Set (set)\n",
    "\n",
    "5 == 3 = Boolean (bool) False\n",
    "\n",
    "Pi = Floating point number (float)\n"
   ]
  },
  {
   "cell_type": "markdown",
   "id": "bafcc828",
   "metadata": {},
   "source": [
    "\n",
    "### Question 2"
   ]
  },
  {
   "cell_type": "markdown",
   "id": "7c942158",
   "metadata": {},
   "source": [
    "Write (and evaluate) python expressions that answer these questions: \n",
    "\n",
    "a. How many letters are there in 'Supercalifragilisticexpialidocious'? \n"
   ]
  },
  {
   "cell_type": "code",
   "execution_count": 2,
   "id": "802af858",
   "metadata": {},
   "outputs": [
    {
     "name": "stdout",
     "output_type": "stream",
     "text": [
      "34\n"
     ]
    }
   ],
   "source": [
    "words = 'Supercalifragilisticexpialidocious'\n",
    "\n",
    "\n",
    "print(len(words))\n"
   ]
  },
  {
   "cell_type": "markdown",
   "id": "e63a8d4f",
   "metadata": {},
   "source": [
    "b. Does 'Supercalifragilisticexpialidocious' contain 'ice' as a substring? \n"
   ]
  },
  {
   "cell_type": "code",
   "execution_count": 56,
   "id": "b3073b6c",
   "metadata": {},
   "outputs": [
    {
     "name": "stdout",
     "output_type": "stream",
     "text": [
      "True\n"
     ]
    }
   ],
   "source": [
    "given_word = 'Supercalifragilisticexpialidocious'\n",
    "\n",
    "substring_word = 'ice'\n",
    "\n",
    "print(substring_word in given_word)\n"
   ]
  },
  {
   "cell_type": "markdown",
   "id": "342c99c6",
   "metadata": {},
   "source": [
    "c. Which of the following words is the longest: Supercalifragilisticexpialidocious, Honorificabilitudinitatibus,  or Bababadalgharaghtakamminarronnkonn? "
   ]
  },
  {
   "cell_type": "code",
   "execution_count": 57,
   "id": "145f6b33",
   "metadata": {},
   "outputs": [
    {
     "name": "stdout",
     "output_type": "stream",
     "text": [
      "Supercalifragilisticexpialidocious\n"
     ]
    }
   ],
   "source": [
    "#given Words are listed below\n",
    "word1 = \"Supercalifragilisticexpialidocious\"\n",
    "\n",
    "word2 = \"Honorificabilitudinitatibus\"\n",
    "\n",
    "word3 = \"Bababadalgharaghtakamminarronnkonn\"\n",
    "\n",
    "\n",
    "#Print the word with max len\n",
    "print( max(word1, word2, word3,))\n"
   ]
  },
  {
   "cell_type": "markdown",
   "id": "d62578d8",
   "metadata": {},
   "source": [
    "d. Which composer comes first in the dictionary: 'Berlioz', 'Borodin', 'Brian', 'Bartok', 'Bellini', 'Buxtehude', 'Bernstein'. Which one comes last?"
   ]
  },
  {
   "cell_type": "code",
   "execution_count": 14,
   "id": "93b9d696",
   "metadata": {},
   "outputs": [
    {
     "name": "stdout",
     "output_type": "stream",
     "text": [
      "First composer: Bartok\n",
      "Last composer: Buxtehude\n"
     ]
    }
   ],
   "source": [
    "composers = ['Berlioz', 'Borodin', 'Brian', 'Bartok', 'Bellini', 'Buxtehude', 'Bernstein']\n",
    "composers.sort()\n",
    "\n",
    "first_composer = composers[0]\n",
    "last_composer = composers[-1]\n",
    "\n",
    "# Print the first and last composer\n",
    "print(\"First composer:\", first_composer)\n",
    "\n",
    "\n",
    "print(\"Last composer:\", last_composer)\n"
   ]
  },
  {
   "cell_type": "markdown",
   "id": "e8b51fb0",
   "metadata": {},
   "source": [
    "### Question 3"
   ]
  },
  {
   "cell_type": "markdown",
   "id": "8e96a2ad",
   "metadata": {},
   "source": [
    "Implement function triangleArea(a,b,c) that takes as input the lengths of the 3 sides of a triangle and returns the area of the triangle. By Heron's formula, the area of a triangle with side lengths a, b, and c is sqrt(s * (s - a) * (s - b) * (s - c), where   s=(a+b+c)/2.\n",
    ">>> triangleArea(2,2,2) \n",
    "\n",
    "1.7320508075688772 "
   ]
  },
  {
   "cell_type": "code",
   "execution_count": 17,
   "id": "06574908",
   "metadata": {},
   "outputs": [
    {
     "name": "stdout",
     "output_type": "stream",
     "text": [
      "1.7320508075688772\n"
     ]
    }
   ],
   "source": [
    "import math\n",
    "\n",
    "def  triangleArea(a, b, c):\n",
    "    # Calculate the semi-perimeter of the triangle\n",
    "    s = (a + b + c) / 2\n",
    "\n",
    "    # Calculating the area using Heron's formula\n",
    "    area = math.sqrt(s * (s - a) * (s - b) * (s - c))\n",
    "\n",
    "    return area\n",
    "\n",
    "# Example\n",
    "area =  triangleArea(2, 2, 2)\n",
    "print(area)\n"
   ]
  },
  {
   "cell_type": "markdown",
   "id": "4778e63c",
   "metadata": {},
   "source": [
    "\n",
    "### Question 4"
   ]
  },
  {
   "cell_type": "markdown",
   "id": "c3d79772",
   "metadata": {},
   "source": [
    "Write a program in python to separate odd and even integers in separate arrays.\n",
    "Go to the editor\n",
    "Test Data :\n",
    "Input the number of elements to be stored in the array :5\n",
    "Input 5 elements in the array :\n",
    "element - 0 : 25 \n",
    "element - 1 : 47 \n",
    "element - 2 : 42 \n",
    "element - 3 : 56 \n",
    "element - 4 : 32 \n",
    "    \n",
    "Expected Output:\n",
    "The Even elements are: 42 56 32 \n",
    "The Odd elements are : 25 47 "
   ]
  },
  {
   "cell_type": "code",
   "execution_count": 59,
   "id": "7a081cab",
   "metadata": {},
   "outputs": [
    {
     "name": "stdout",
     "output_type": "stream",
     "text": [
      "Enter the number of elements to process: 4\n",
      "element - 0: 12\n",
      "element - 1: 66\n",
      "element - 2: 11\n",
      "element - 3: 55\n",
      "The Even elements are: [12, 66]\n",
      "The Odd elements are: [11, 55]\n"
     ]
    }
   ],
   "source": [
    "def OddEven(nums):\n",
    "    even_nums = []\n",
    "    odd_nums = []\n",
    "\n",
    "    for num in nums:\n",
    "        if num % 2 == 0:\n",
    "            even_nums.append(num)\n",
    "        else:\n",
    "            odd_nums.append(num)\n",
    "\n",
    "    return even_nums, odd_nums\n",
    "\n",
    "####program\n",
    "elements = int(input(\"Enter the number of elements to process: \"))\n",
    "numbers = []\n",
    "\n",
    "for i in range(elements):\n",
    "    element = int(input(\"element - {}: \".format(i)))\n",
    "    numbers.append(element)\n",
    "\n",
    "even_elements, odd_elements = OddEven(numbers)\n",
    "\n",
    "print(\"The Even elements are:\", even_elements)\n",
    "print(\"The Odd elements are:\", odd_elements)\n"
   ]
  },
  {
   "cell_type": "markdown",
   "id": "de8de0c4",
   "metadata": {},
   "source": [
    "### Question 5"
   ]
  },
  {
   "cell_type": "markdown",
   "id": "0a48e9b3",
   "metadata": {},
   "source": [
    "a. Write a function inside(x,y,x1,y1,x2,y2) that returns True or False depending on whether the point (x,y) lies in the rectangle with lower left corner (x1,y1) and upper right corner (x2,y2).\n",
    "\n",
    ">>> inside(1,1,0,0,2,3) True\n",
    "\n",
    ">>> inside(-1,-1,0,0,2,3) False"
   ]
  },
  {
   "cell_type": "code",
   "execution_count": 60,
   "id": "d40d08b3",
   "metadata": {},
   "outputs": [
    {
     "data": {
      "text/plain": [
       "True"
      ]
     },
     "execution_count": 60,
     "metadata": {},
     "output_type": "execute_result"
    }
   ],
   "source": [
    "def inside(x, y, x1, y1, x2, y2):\n",
    "    if x >= x1 and x <= x2 and y >= y1 and y <= y2:\n",
    "        return True\n",
    "    else:\n",
    "        return False\n",
    "\n",
    "\n",
    "# Example\n",
    "inside(1,1,0,0,2,3) ###True \n",
    "\n",
    "\n",
    "##inside(-1,-1,0,0,2,3) #False\n"
   ]
  },
  {
   "cell_type": "markdown",
   "id": "7210790e",
   "metadata": {},
   "source": [
    "b. Use function inside() from part a.to write an expression that tests whether the point (1,1) lies in both of the following rectangles:\n",
    "one with lower left corner (0.3, 0.5) and upper right corner (1.1, 0.7) and the other with lower left corner (0.5, 0.2) and upper right corner (1.1, 2)."
   ]
  },
  {
   "cell_type": "code",
   "execution_count": 30,
   "id": "20ba9f44",
   "metadata": {},
   "outputs": [
    {
     "name": "stdout",
     "output_type": "stream",
     "text": [
      "False\n"
     ]
    }
   ],
   "source": [
    "def inside(x, y, x1, y1, x2, y2):\n",
    "    if x >= x1 and x <= x2 and y >= y1 and y <= y2:\n",
    "        return True\n",
    "    else:\n",
    "        return False\n",
    "\n",
    "point_inside_rectangles = inside(1, 1, 0.3, 0.5, 1.1, 0.7) \n",
    "and inside(1, 1, 0.5, 0.2, 1.1, 2)\n",
    "\n",
    "print(point_inside_rectangles)\n",
    "\n"
   ]
  },
  {
   "cell_type": "markdown",
   "id": "f883382a",
   "metadata": {},
   "source": [
    "### Question 6"
   ]
  },
  {
   "cell_type": "markdown",
   "id": "8b12c437",
   "metadata": {},
   "source": [
    "You can turn a word into pig-Latin using the following two rules (simplified): \n",
    "\n",
    "If the word starts with a consonant, move that letter to the end and append 'ay'. For example, 'happy' becomes 'appyhay' and 'pencil' becomes 'encilpay'.\n",
    "\n",
    "If the word starts with a vowel, simply append 'way' to the end of the word. For example, 'enter' becomes 'enterway' and 'other' becomes 'otherway' . For our purposes, there are 5 vowels: a, e, i, o, u (so we count y as a consonant).\n",
    "\n",
    "Write a function pig() that takes a word (i.e., a string) as input and returns its pigLatin form. Your function should still work if the input word contains upper case characters. Your output should always be lower case however. \n",
    "\n",
    ">>> pig('happy') 'appyhay' \n",
    "\n",
    ">>> pig('Enter') 'enterway' \n"
   ]
  },
  {
   "cell_type": "code",
   "execution_count": 33,
   "id": "113f9d09",
   "metadata": {},
   "outputs": [
    {
     "name": "stdout",
     "output_type": "stream",
     "text": [
      "appyhay\n",
      "enterway\n"
     ]
    }
   ],
   "source": [
    "def pig(word):\n",
    "    vowels = ['a', 'e', 'i', 'o', 'u']\n",
    "    word = word.lower()\n",
    "    if word[0] in vowels:\n",
    "        return word + 'way'\n",
    "    else:\n",
    "        return word[1:] + word[0] + 'ay'\n",
    "\n",
    "# Example\n",
    "print(pig('happy'))   # Output: appyhay\n",
    "print(pig('enter'))   # Output: enterway\n"
   ]
  },
  {
   "cell_type": "markdown",
   "id": "a38aff58",
   "metadata": {},
   "source": [
    "### Question 7"
   ]
  },
  {
   "cell_type": "markdown",
   "id": "29bf4d99",
   "metadata": {},
   "source": [
    "File bloodtype1.txt records blood-types of patients (A, B, AB, O or OO) at a clinic. Write a function bldcount() that reads the file with name name and reports (i.e., prints) how many patients there are in each bloodtype.\n",
    ">>> bldcount('bloodtype.txt') \n",
    "There are 10 patients of blood type A. \n",
    "\n",
    "There is one patient of blood type B.\n",
    "\n",
    "There are 10 patients of blood type AB. \n",
    "\n",
    "There are 12 patients of blood type O. \n",
    "\n",
    "There are no patients of blood type OO. \n"
   ]
  },
  {
   "cell_type": "code",
   "execution_count": 51,
   "id": "8293880e",
   "metadata": {},
   "outputs": [
    {
     "name": "stdout",
     "output_type": "stream",
     "text": [
      "15 patients of blood type: A\n",
      "one patient of blood type: B\n",
      "13 patients of blood type: AB\n",
      "15 patients of blood type: O\n",
      "no patients of blood type: OO\n"
     ]
    }
   ],
   "source": [
    "def bldcount():\n",
    "    blood_counts = {'A': 0, 'B': 0, 'AB': 0, 'O': 0, 'OO': 0}\n",
    "\n",
    "    with open(\"bloodtype.txt\", 'r') as file:\n",
    "        blood_types = file.read().split()\n",
    "        for blood_type in blood_types:\n",
    "            if blood_type in blood_counts:\n",
    "                blood_counts[blood_type] += 1\n",
    "\n",
    "    for blood_type, count in blood_counts.items():\n",
    "        if count == 0:\n",
    "            print(f\"no patients of blood type: {blood_type}\")\n",
    "        elif count == 1:\n",
    "            print(f\"one patient of blood type: {blood_type}\")\n",
    "        else:\n",
    "            print(f\"{count} patients of blood type: {blood_type}\")\n",
    "\n",
    "# function call\n",
    "bldcount()"
   ]
  },
  {
   "cell_type": "markdown",
   "id": "f3fabada",
   "metadata": {},
   "source": [
    "### Question 8"
   ]
  },
  {
   "cell_type": "markdown",
   "id": "39d3a4b2",
   "metadata": {},
   "source": [
    "Write a function curconv() that takes as input:\n",
    "1. a currency represented using a string (e.g., 'JPY' for the Japanese Yen or 'EUR' for the Euro) \n",
    "2. an amount  and then converts and returns the amount in US dollars. \n",
    ">>> curconv('EUR', 100)\n",
    "122.96544 \n",
    "\n",
    ">>> curconv('JPY', 100) \n",
    "1.241401"
   ]
  },
  {
   "cell_type": "code",
   "execution_count": 63,
   "id": "1c14c942",
   "metadata": {},
   "outputs": [
    {
     "name": "stdout",
     "output_type": "stream",
     "text": [
      "122.96544\n",
      "1.241401\n"
     ]
    }
   ],
   "source": [
    "def currencyConverter(currencyInd, amount):\n",
    "    # Read file from currencies.txt\n",
    "    currencyExchange = {}\n",
    "    with open('currencies.txt', 'r') as file:\n",
    "        for line in file:\n",
    "            currency_info = line.split()\n",
    "            currency = currency_info[0]\n",
    "            exchangeRate = float(currency_info[1])\n",
    "            currencyExchange[currency] = exchangeRate\n",
    "\n",
    "    # and convert the amount into US dollar\n",
    "    if currencyInd in currencyExchange:\n",
    "        usAmount = amount * currencyExchange[currencyInd]\n",
    "        return usAmount\n",
    "    else:\n",
    "        return 'Not a valid currency'\n",
    "\n",
    "# cHange currency\n",
    "print(currencyConverter('EUR', 100))  \n",
    "print(currencyConverter('JPY', 100))"
   ]
  },
  {
   "cell_type": "markdown",
   "id": "ea02170f",
   "metadata": {},
   "source": [
    "### Question 9"
   ]
  },
  {
   "cell_type": "markdown",
   "id": "b1cc2355",
   "metadata": {},
   "source": [
    "Each of the following will cause an exception (an error).\n",
    "\n",
    "Identify what type of exception each will cause. \n",
    "\n",
    "Trying to add incompatible variables, as in adding 6 + ‘a’\n",
    "\n",
    "Referring to the 12th item of a list that has only 10 items \n",
    "\n",
    "Using a value that is out of range for a function’s input, such as calling math.sqrt(-1.0) \n",
    "\n",
    "Using an undeclared variable, such as print(x) when x has not been defined \n",
    "\n",
    "Trying to open a file that does not exist, such as mistyping the file name or looking in the wrong directory.  "
   ]
  },
  {
   "cell_type": "markdown",
   "id": "4f1de084",
   "metadata": {},
   "source": [
    "\n",
    "Attempting to perform addition on incompatible variables, such as adding 6 + 'a':\n",
    "\n",
    "-A TypeError exception will be raised because the addition operation cannot be performed between an integer and a string.\n",
    "\n",
    "Accessing the 12th item of a list that only contains 10 items:\n",
    "\n",
    "-An IndexError exception will be raised because the list index is out of range, as the list only has 10 items.\n",
    "\n",
    "Providing an out-of-range value as input to a function, for example, calling math.sqrt(-1.0):\n",
    "\n",
    "-A ValueError exception will be raised because the math.sqrt() function only accepts non-negative numbers, so a negative number is outside the valid range.\n",
    "\n",
    "Using an undeclared variable, like trying to print the value of x when x has not been defined:\n",
    "\n",
    "-A NameError exception will be raised because the variable x has not been declared or initialized before attempting to print its value.\n",
    "\n",
    "Attempting to open a file that does not exist, such as misspelling the file name or looking in the wrong directory:\n",
    "\n",
    "-A FileNotFoundError exception will be raised because the program tries to locate and open a file using the provided file name, but if the file does not exist or the path is incorrect, the FileNotFoundError will occur."
   ]
  },
  {
   "cell_type": "markdown",
   "id": "d71f3ba6",
   "metadata": {},
   "source": [
    "### Question 10"
   ]
  },
  {
   "cell_type": "markdown",
   "id": "2c6c66e7",
   "metadata": {},
   "source": [
    "Encryption is the process of hiding the meaning of a text by substituting letters in the message with other letters, according to some system. If the process is successful, no one but the intended recipient can understand the encrypted message. \n",
    "\n",
    "Cryptanalysis refers to attempts to undo the encryption, even if some details of the encryption are unknown (for example, if an encrypted message has been intercepted).\n",
    "\n",
    "The first step of cryptanalysis is often to build up a table of letter frequencies in the encrypted text.\n",
    "\n",
    "Assume that the string letters is already defined as 'abcdefghijklmnopqrstuvwxyz'.\n",
    "\n",
    "Write a function called frequencies() that takes a string as its only parameter, and returns a list of integers, showing the number of times each character appears in the text.\n",
    "\n",
    "Your function may ignore any characters that are not in letters. \n",
    "\n",
    ">>> frequencies('The quick red fox got bored and went home.') [1, 1, 1, 3, 5, 1, 1, 2, 1, 0, 1, 0, 1, 2, 4, 0, 1, 2, 0, 2, 1, 0, 1, 1, 0, 0] \n",
    "\n",
    ">>> frequencies('apple') "
   ]
  },
  {
   "cell_type": "code",
   "execution_count": 61,
   "id": "d05b3dd0",
   "metadata": {},
   "outputs": [
    {
     "name": "stdout",
     "output_type": "stream",
     "text": [
      "[1, 1, 1, 3, 5, 1, 1, 2, 1, 0, 1, 0, 1, 2, 4, 0, 1, 2, 0, 3, 1, 0, 1, 1, 0, 0]\n",
      "[1, 0, 0, 0, 1, 0, 0, 0, 0, 0, 0, 1, 0, 0, 0, 2, 0, 0, 0, 0, 0, 0, 0, 0, 0, 0]\n"
     ]
    }
   ],
   "source": [
    "def frequencies(text):\n",
    "    letters = 'abcdefghijklmnopqrstuvwxyz'\n",
    "    text = text.lower()  # Convert to lowercase\n",
    "    count = [0] * len(letters) # Letters count length\n",
    "\n",
    "    for c in text:\n",
    "        if c in letters:\n",
    "            index = letters.index(c)\n",
    "            count[index] += 1\n",
    "\n",
    "    return count\n",
    "\n",
    "\n",
    "print(frequencies('The quick red fox got bored and went home.'))\n",
    "print(frequencies('apple'))"
   ]
  },
  {
   "cell_type": "code",
   "execution_count": null,
   "id": "b04023f1",
   "metadata": {},
   "outputs": [],
   "source": []
  }
 ],
 "metadata": {
  "kernelspec": {
   "display_name": "Python 3 (ipykernel)",
   "language": "python",
   "name": "python3"
  },
  "language_info": {
   "codemirror_mode": {
    "name": "ipython",
    "version": 3
   },
   "file_extension": ".py",
   "mimetype": "text/x-python",
   "name": "python",
   "nbconvert_exporter": "python",
   "pygments_lexer": "ipython3",
   "version": "3.10.9"
  }
 },
 "nbformat": 4,
 "nbformat_minor": 5
}
